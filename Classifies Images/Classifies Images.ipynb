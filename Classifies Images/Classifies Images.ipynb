{
 "cells": [
  {
   "cell_type": "code",
   "execution_count": 1,
   "id": "b72464b4",
   "metadata": {},
   "outputs": [],
   "source": [
    "#Description: classifies images\n",
    "\n",
    "#Import libraries\n",
    "import tensorflow as tf\n",
    "from tensorflow import keras\n",
    "from keras.models import Sequential\n",
    "from keras.layers import Dense, Flatten, Conv2D, MaxPooling2D, Dropout\n",
    "from tensorflow.keras import layers\n",
    "from keras.utils import to_categorical\n",
    "import numpy as np\n",
    "import matplotlib.pyplot as plt\n",
    "plt.style.use('fivethirtyeight')"
   ]
  },
  {
   "cell_type": "code",
   "execution_count": 2,
   "id": "1b5bdcd5",
   "metadata": {},
   "outputs": [],
   "source": [
    "#Load the data\n",
    "from keras.datasets import cifar10\n",
    "(x_train, y_train), (x_test, y_test) = cifar10.load_data() "
   ]
  },
  {
   "cell_type": "code",
   "execution_count": 3,
   "id": "6d1dbca1",
   "metadata": {},
   "outputs": [
    {
     "name": "stdout",
     "output_type": "stream",
     "text": [
      "<class 'numpy.ndarray'>\n",
      "<class 'numpy.ndarray'>\n",
      "<class 'numpy.ndarray'>\n",
      "<class 'numpy.ndarray'>\n"
     ]
    }
   ],
   "source": [
    "#Look at the data types of variables\n",
    "print(type(x_train))\n",
    "print(type(y_train))\n",
    "print(type(x_test))\n",
    "print(type(y_test))"
   ]
  },
  {
   "cell_type": "code",
   "execution_count": 4,
   "id": "3591e4c8",
   "metadata": {},
   "outputs": [
    {
     "name": "stdout",
     "output_type": "stream",
     "text": [
      "x_train shape: (50000, 32, 32, 3)\n",
      "y_train shape: (50000, 1)\n",
      "x_test shape: (10000, 32, 32, 3)\n",
      "y_test shape: (10000, 1)\n"
     ]
    }
   ],
   "source": [
    "#Get the shape of array\n",
    "print('x_train shape:', x_train.shape)\n",
    "print('y_train shape:', y_train.shape)\n",
    "print('x_test shape:', x_test.shape)\n",
    "print('y_test shape:', y_test.shape)"
   ]
  },
  {
   "cell_type": "code",
   "execution_count": 10,
   "id": "438bf5a4",
   "metadata": {},
   "outputs": [
    {
     "data": {
      "text/plain": [
       "array([[[53, 65, 53],\n",
       "        [54, 63, 52],\n",
       "        [56, 60, 50],\n",
       "        ...,\n",
       "        [47, 51, 50],\n",
       "        [41, 45, 44],\n",
       "        [24, 28, 27]],\n",
       "\n",
       "       [[46, 59, 41],\n",
       "        [53, 62, 45],\n",
       "        [54, 59, 44],\n",
       "        ...,\n",
       "        [42, 46, 45],\n",
       "        [39, 43, 42],\n",
       "        [28, 32, 31]],\n",
       "\n",
       "       [[45, 59, 38],\n",
       "        [50, 60, 41],\n",
       "        [46, 52, 34],\n",
       "        ...,\n",
       "        [38, 42, 41],\n",
       "        [36, 40, 39],\n",
       "        [29, 33, 32]],\n",
       "\n",
       "       ...,\n",
       "\n",
       "       [[71, 83, 66],\n",
       "        [74, 83, 66],\n",
       "        [80, 85, 67],\n",
       "        ...,\n",
       "        [51, 54, 33],\n",
       "        [46, 49, 34],\n",
       "        [49, 50, 41]],\n",
       "\n",
       "       [[75, 82, 67],\n",
       "        [79, 85, 69],\n",
       "        [81, 85, 67],\n",
       "        ...,\n",
       "        [61, 65, 41],\n",
       "        [64, 67, 48],\n",
       "        [48, 50, 41]],\n",
       "\n",
       "       [[85, 83, 71],\n",
       "        [85, 84, 71],\n",
       "        [86, 86, 70],\n",
       "        ...,\n",
       "        [61, 65, 39],\n",
       "        [64, 67, 46],\n",
       "        [49, 50, 41]]], dtype=uint8)"
      ]
     },
     "execution_count": 10,
     "metadata": {},
     "output_type": "execute_result"
    }
   ],
   "source": [
    "#take a look at the first image as array\n",
    "index = 10\n",
    "x_train[index]"
   ]
  },
  {
   "cell_type": "code",
   "execution_count": 11,
   "id": "6eb8dd16",
   "metadata": {},
   "outputs": [
    {
     "data": {
      "image/png": "[encoded data removed]",
      "text/plain": [
       "<Figure size 432x288 with 1 Axes>"
      ]
     },
     "metadata": {},
     "output_type": "display_data"
    }
   ],
   "source": [
    "#Show img\n",
    "img = plt.imshow(x_train[index])"
   ]
  },
  {
   "cell_type": "code",
   "execution_count": 12,
   "id": "41b999ac",
   "metadata": {},
   "outputs": [
    {
     "name": "stdout",
     "output_type": "stream",
     "text": [
      "The image label is: [4]\n"
     ]
    }
   ],
   "source": [
    "#Get the image label\n",
    "print('The image label is:', y_train[index])"
   ]
  },
  {
   "cell_type": "code",
   "execution_count": 13,
   "id": "9fef1926",
   "metadata": {},
   "outputs": [
    {
     "name": "stdout",
     "output_type": "stream",
     "text": [
      "The image class is: deer\n"
     ]
    }
   ],
   "source": [
    "#Get the image classification\n",
    "classification = ['airplane', 'automobile', 'bird', 'cat', 'deer', 'dog', 'frog', 'horse', 'ship', 'truck']\n",
    "#print the image class\n",
    "print('The image class is:', classification[y_train[index][0]])"
   ]
  },
  {
   "cell_type": "code",
   "execution_count": 14,
   "id": "e1d7cd77",
   "metadata": {},
   "outputs": [],
   "source": [
    "#Convert the labels into a set of 10 numbers to input into the neural network\n",
    "y_train_one_hot = to_categorical(y_train)\n",
    "y_test_one_hot = to_categorical(y_test)"
   ]
  },
  {
   "cell_type": "code",
   "execution_count": 15,
   "id": "aed0edd2",
   "metadata": {},
   "outputs": [
    {
     "name": "stdout",
     "output_type": "stream",
     "text": [
      "[[0. 0. 0. ... 0. 0. 0.]\n",
      " [0. 0. 0. ... 0. 0. 1.]\n",
      " [0. 0. 0. ... 0. 0. 1.]\n",
      " ...\n",
      " [0. 0. 0. ... 0. 0. 1.]\n",
      " [0. 1. 0. ... 0. 0. 0.]\n",
      " [0. 1. 0. ... 0. 0. 0.]]\n"
     ]
    }
   ],
   "source": [
    "#Print the new labels\n",
    "print(y_train_one_hot)"
   ]
  },
  {
   "cell_type": "code",
   "execution_count": 16,
   "id": "329f4a50",
   "metadata": {},
   "outputs": [
    {
     "name": "stdout",
     "output_type": "stream",
     "text": [
      "The one hot label is: [0. 0. 0. 0. 1. 0. 0. 0. 0. 0.]\n"
     ]
    }
   ],
   "source": [
    "#print new label of the image above\n",
    "print('The one hot label is:', y_train_one_hot[index])"
   ]
  },
  {
   "cell_type": "code",
   "execution_count": 17,
   "id": "58b33534",
   "metadata": {},
   "outputs": [],
   "source": [
    "#normalize the pixels to be values between 0 and 1\n",
    "x_train = x_train / 255\n",
    "x_test = x_test /255"
   ]
  },
  {
   "cell_type": "code",
   "execution_count": 18,
   "id": "f687f520",
   "metadata": {},
   "outputs": [
    {
     "data": {
      "text/plain": [
       "array([[[0.20784314, 0.25490196, 0.20784314],\n",
       "        [0.21176471, 0.24705882, 0.20392157],\n",
       "        [0.21960784, 0.23529412, 0.19607843],\n",
       "        ...,\n",
       "        [0.18431373, 0.2       , 0.19607843],\n",
       "        [0.16078431, 0.17647059, 0.17254902],\n",
       "        [0.09411765, 0.10980392, 0.10588235]],\n",
       "\n",
       "       [[0.18039216, 0.23137255, 0.16078431],\n",
       "        [0.20784314, 0.24313725, 0.17647059],\n",
       "        [0.21176471, 0.23137255, 0.17254902],\n",
       "        ...,\n",
       "        [0.16470588, 0.18039216, 0.17647059],\n",
       "        [0.15294118, 0.16862745, 0.16470588],\n",
       "        [0.10980392, 0.1254902 , 0.12156863]],\n",
       "\n",
       "       [[0.17647059, 0.23137255, 0.14901961],\n",
       "        [0.19607843, 0.23529412, 0.16078431],\n",
       "        [0.18039216, 0.20392157, 0.13333333],\n",
       "        ...,\n",
       "        [0.14901961, 0.16470588, 0.16078431],\n",
       "        [0.14117647, 0.15686275, 0.15294118],\n",
       "        [0.11372549, 0.12941176, 0.1254902 ]],\n",
       "\n",
       "       ...,\n",
       "\n",
       "       [[0.27843137, 0.3254902 , 0.25882353],\n",
       "        [0.29019608, 0.3254902 , 0.25882353],\n",
       "        [0.31372549, 0.33333333, 0.2627451 ],\n",
       "        ...,\n",
       "        [0.2       , 0.21176471, 0.12941176],\n",
       "        [0.18039216, 0.19215686, 0.13333333],\n",
       "        [0.19215686, 0.19607843, 0.16078431]],\n",
       "\n",
       "       [[0.29411765, 0.32156863, 0.2627451 ],\n",
       "        [0.30980392, 0.33333333, 0.27058824],\n",
       "        [0.31764706, 0.33333333, 0.2627451 ],\n",
       "        ...,\n",
       "        [0.23921569, 0.25490196, 0.16078431],\n",
       "        [0.25098039, 0.2627451 , 0.18823529],\n",
       "        [0.18823529, 0.19607843, 0.16078431]],\n",
       "\n",
       "       [[0.33333333, 0.3254902 , 0.27843137],\n",
       "        [0.33333333, 0.32941176, 0.27843137],\n",
       "        [0.3372549 , 0.3372549 , 0.2745098 ],\n",
       "        ...,\n",
       "        [0.23921569, 0.25490196, 0.15294118],\n",
       "        [0.25098039, 0.2627451 , 0.18039216],\n",
       "        [0.19215686, 0.19607843, 0.16078431]]])"
      ]
     },
     "execution_count": 18,
     "metadata": {},
     "output_type": "execute_result"
    }
   ],
   "source": [
    "x_train[index]"
   ]
  },
  {
   "cell_type": "code",
   "execution_count": 20,
   "id": "a5e25961",
   "metadata": {},
   "outputs": [],
   "source": [
    "#Create the models architecture\n",
    "model = Sequential()\n",
    "\n",
    "#Add the first layer\n",
    "model.add( Conv2D(32, (5,5), activation='relu', input_shape=(32,32,3)))\n",
    "\n",
    "#Add a pooling layer\n",
    "model.add(MaxPooling2D(pool_size = (2,2)))\n",
    "\n",
    "#add the second layer\n",
    "model.add (Conv2D(32, (5,5), activation='relu'))\n",
    "\n",
    "#Add another pooling layer\n",
    "model.add(MaxPooling2D(pool_size = (2,2)))\n",
    "\n",
    "#Add a flattening layer - reduce dimension to linear array\n",
    "model.add(Flatten())\n",
    "\n",
    "# Add a layer with 1000 neurons\n",
    "model.add(Dense(1000, activation='relu'))\n",
    "\n",
    "#Add a drop out layer\n",
    "model.add(Dropout(0.5))\n",
    "\n",
    "# Add a layer with 500 neurons\n",
    "model.add(Dense(500, activation='relu'))\n",
    "\n",
    "#Add a drop out layer\n",
    "model.add(Dropout(0.5))\n",
    "\n",
    "# Add a layer with 500 neurons\n",
    "model.add(Dense(250, activation='relu'))\n",
    "\n",
    "# Add a layer with 500 neurons\n",
    "model.add(Dense(10, activation='softmax'))"
   ]
  },
  {
   "cell_type": "code",
   "execution_count": 21,
   "id": "432efafd",
   "metadata": {},
   "outputs": [],
   "source": [
    "#Compile the model\n",
    "model.compile(loss= 'categorical_crossentropy',\n",
    "             optimizer = 'adam',\n",
    "             metrics = ['accuracy'])"
   ]
  },
  {
   "cell_type": "code",
   "execution_count": 22,
   "id": "1bc7d480",
   "metadata": {},
   "outputs": [
    {
     "name": "stdout",
     "output_type": "stream",
     "text": [
      "Epoch 1/10\n",
      "157/157 [==============================] - 16s 102ms/step - loss: 1.7903 - accuracy: 0.3307 - val_loss: 1.5819 - val_accuracy: 0.4314\n",
      "Epoch 2/10\n",
      "157/157 [==============================] - 15s 95ms/step - loss: 1.4235 - accuracy: 0.4849 - val_loss: 1.5792 - val_accuracy: 0.4494\n",
      "Epoch 3/10\n",
      "157/157 [==============================] - 15s 96ms/step - loss: 1.2872 - accuracy: 0.5343 - val_loss: 1.1642 - val_accuracy: 0.5909\n",
      "Epoch 4/10\n",
      "157/157 [==============================] - 15s 96ms/step - loss: 1.1870 - accuracy: 0.5732 - val_loss: 1.1242 - val_accuracy: 0.6026\n",
      "Epoch 5/10\n",
      "157/157 [==============================] - 15s 95ms/step - loss: 1.0993 - accuracy: 0.6095 - val_loss: 1.0772 - val_accuracy: 0.6262\n",
      "Epoch 6/10\n",
      "157/157 [==============================] - 15s 95ms/step - loss: 1.0449 - accuracy: 0.6289 - val_loss: 1.0326 - val_accuracy: 0.6364\n",
      "Epoch 7/10\n",
      "157/157 [==============================] - 15s 95ms/step - loss: 0.9928 - accuracy: 0.6463 - val_loss: 1.0146 - val_accuracy: 0.6418\n",
      "Epoch 8/10\n",
      "157/157 [==============================] - 15s 95ms/step - loss: 0.9377 - accuracy: 0.6682 - val_loss: 1.0073 - val_accuracy: 0.6446\n",
      "Epoch 9/10\n",
      "157/157 [==============================] - 15s 95ms/step - loss: 0.8912 - accuracy: 0.6821 - val_loss: 1.0030 - val_accuracy: 0.6469\n",
      "Epoch 10/10\n",
      "157/157 [==============================] - 15s 96ms/step - loss: 0.8556 - accuracy: 0.6964 - val_loss: 0.9325 - val_accuracy: 0.6736\n"
     ]
    }
   ],
   "source": [
    "#Train the model\n",
    "hist = model.fit(x_train, y_train_one_hot,\n",
    "                batch_size = 256,\n",
    "                epochs = 10,\n",
    "                validation_split = 0.2)"
   ]
  },
  {
   "cell_type": "code",
   "execution_count": 23,
   "id": "c100d15b",
   "metadata": {},
   "outputs": [
    {
     "name": "stdout",
     "output_type": "stream",
     "text": [
      "313/313 [==============================] - 2s 5ms/step - loss: 0.9524 - accuracy: 0.6693\n"
     ]
    },
    {
     "data": {
      "text/plain": [
       "0.6693000197410583"
      ]
     },
     "execution_count": 23,
     "metadata": {},
     "output_type": "execute_result"
    }
   ],
   "source": [
    "#Evaluate the model using test data set\n",
    "model.evaluate(x_test, y_test_one_hot)[1]"
   ]
  },
  {
   "cell_type": "code",
   "execution_count": 24,
   "id": "385b63a2",
   "metadata": {},
   "outputs": [
    {
     "data": {
      "image/png": "[encoded data removed]",
      "text/plain": [
       "<Figure size 432x288 with 1 Axes>"
      ]
     },
     "metadata": {},
     "output_type": "display_data"
    }
   ],
   "source": [
    "#Visualize the models accuracy \n",
    "plt.plot(hist.history ['accuracy'])\n",
    "plt.plot(hist.history ['val_accuracy'])\n",
    "plt.title('Model Accuracy')\n",
    "plt.ylabel('Accuracy')\n",
    "plt.xlabel('Epoch')\n",
    "plt.legend(['Train', 'Val'], loc='upper right')\n",
    "plt.show()"
   ]
  },
  {
   "cell_type": "code",
   "execution_count": 25,
   "id": "d8cef1a3",
   "metadata": {},
   "outputs": [
    {
     "data": {
      "image/png": "[encoded data removed]",
      "text/plain": [
       "<Figure size 432x288 with 1 Axes>"
      ]
     },
     "metadata": {},
     "output_type": "display_data"
    }
   ],
   "source": [
    "#Visualize model loss\n",
    "plt.plot(hist.history ['loss'])\n",
    "plt.plot(hist.history ['val_loss'])\n",
    "plt.title('Model Loss')\n",
    "plt.ylabel('Loss')\n",
    "plt.xlabel('Epoch')\n",
    "plt.legend(['Train', 'Val'], loc='upper right')\n",
    "plt.show()"
   ]
  },
  {
   "cell_type": "code",
   "execution_count": 28,
   "id": "69d03171",
   "metadata": {},
   "outputs": [
    {
     "ename": "ModuleNotFoundError",
     "evalue": "No module named 'google.colab'",
     "output_type": "error",
     "traceback": [
      "\u001b[1;31m---------------------------------------------------------------------------\u001b[0m",
      "\u001b[1;31mModuleNotFoundError\u001b[0m                       Traceback (most recent call last)",
      "\u001b[1;32m~\\AppData\\Local\\Temp/ipykernel_4352/2344530416.py\u001b[0m in \u001b[0;36m<module>\u001b[1;34m\u001b[0m\n\u001b[0;32m      1\u001b[0m \u001b[1;31m#Test the model\u001b[0m\u001b[1;33m\u001b[0m\u001b[1;33m\u001b[0m\u001b[1;33m\u001b[0m\u001b[0m\n\u001b[1;32m----> 2\u001b[1;33m \u001b[1;32mfrom\u001b[0m \u001b[0mgoogle\u001b[0m\u001b[1;33m.\u001b[0m\u001b[0mcolab\u001b[0m \u001b[1;32mimport\u001b[0m \u001b[0mfiles\u001b[0m\u001b[1;33m\u001b[0m\u001b[1;33m\u001b[0m\u001b[0m\n\u001b[0m\u001b[0;32m      3\u001b[0m \u001b[0muploaded\u001b[0m \u001b[1;33m=\u001b[0m \u001b[0mfiles\u001b[0m\u001b[1;33m.\u001b[0m\u001b[0mupload\u001b[0m\u001b[1;33m(\u001b[0m\u001b[1;33m)\u001b[0m\u001b[1;33m\u001b[0m\u001b[1;33m\u001b[0m\u001b[0m\n",
      "\u001b[1;31mModuleNotFoundError\u001b[0m: No module named 'google.colab'"
     ]
    }
   ],
   "source": [
    "#Test the model \n",
    "from pandas import pd\n"
   ]
  },
  {
   "cell_type": "code",
   "execution_count": null,
   "id": "13a5b29e",
   "metadata": {},
   "outputs": [],
   "source": []
  }
 ],
 "metadata": {
  "kernelspec": {
   "display_name": "Python 3 (ipykernel)",
   "language": "python",
   "name": "python3"
  },
  "language_info": {
   "codemirror_mode": {
    "name": "ipython",
    "version": 3
   },
   "file_extension": ".py",
   "mimetype": "text/x-python",
   "name": "python",
   "nbconvert_exporter": "python",
   "pygments_lexer": "ipython3",
   "version": "3.8.12"
  }
 },
 "nbformat": 4,
 "nbformat_minor": 5
}
